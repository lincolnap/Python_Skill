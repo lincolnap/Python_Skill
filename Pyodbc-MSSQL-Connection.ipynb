{
 "cells": [
  {
   "cell_type": "code",
   "execution_count": 1,
   "id": "88d878f8",
   "metadata": {},
   "outputs": [],
   "source": [
    "import pyodbc\n",
    "import pandas as pd"
   ]
  },
  {
   "cell_type": "code",
   "execution_count": 2,
   "id": "d83f0a50",
   "metadata": {},
   "outputs": [],
   "source": [
    "#from login imimport connectiones as lg"
   ]
  },
  {
   "cell_type": "markdown",
   "id": "241fbf0b",
   "metadata": {},
   "source": [
    "## Show drivers in the system"
   ]
  },
  {
   "cell_type": "code",
   "execution_count": 3,
   "id": "d7adcd6b",
   "metadata": {},
   "outputs": [
    {
     "name": "stdout",
     "output_type": "stream",
     "text": [
      "SQL Server\n",
      "SQL Server Native Client 11.0\n",
      "ODBC Driver 17 for SQL Server\n",
      "ODBC Driver 18 for SQL Server\n",
      "Microsoft Access Driver (*.mdb, *.accdb)\n",
      "Microsoft Excel Driver (*.xls, *.xlsx, *.xlsm, *.xlsb)\n",
      "Microsoft Access Text Driver (*.txt, *.csv)\n"
     ]
    }
   ],
   "source": [
    "for driver in pyodbc.drivers(): \n",
    "    print(driver)"
   ]
  },
  {
   "cell_type": "markdown",
   "id": "95bc5935",
   "metadata": {},
   "source": [
    "## Engine odbc"
   ]
  },
  {
   "cell_type": "code",
   "execution_count": 4,
   "id": "7bd095a1",
   "metadata": {},
   "outputs": [],
   "source": [
    "# Define the connection string\n",
    "server = '192.168.3.24'\n",
    "database = 'master'\n",
    "uid = 'sa'\n",
    "pwd = 'Panama11'\n",
    "tcon = 'yes'\n",
    "#cnxn = pyodbc.connect('DRIVER={SQL Server};SERVER='+server+';\\DATABASE='+ database +';\\Trusted_Connection=yes;'+lg().login()+)"
   ]
  },
  {
   "cell_type": "code",
   "execution_count": 5,
   "id": "f19af655",
   "metadata": {},
   "outputs": [],
   "source": [
    "cnxn_true = pyodbc.connect(driver='{SQL Server}', server='localhost', database='master', uid='sa', pwd='Panama11')"
   ]
  },
  {
   "cell_type": "code",
   "execution_count": 6,
   "id": "223d4ba5-ddfe-4a0d-8ffb-3226329bdb7e",
   "metadata": {},
   "outputs": [
    {
     "data": {
      "text/plain": [
       "<pyodbc.Connection at 0x253e60be1d0>"
      ]
     },
     "execution_count": 6,
     "metadata": {},
     "output_type": "execute_result"
    }
   ],
   "source": [
    "cnxn_true"
   ]
  },
  {
   "cell_type": "code",
   "execution_count": 7,
   "id": "e86d35a5-9406-4c1e-b9a9-54192b4b1778",
   "metadata": {},
   "outputs": [],
   "source": [
    "cursor = cnxn_true.cursor()"
   ]
  },
  {
   "cell_type": "code",
   "execution_count": 8,
   "id": "1e7aa44d-04f9-41da-9a1a-b485edf4ac85",
   "metadata": {},
   "outputs": [],
   "source": [
    "cnxn_1 = pyodbc.connect(driver='{SQL Server}',server=server,database=database,user=uid,password=pwd)"
   ]
  },
  {
   "cell_type": "code",
   "execution_count": 9,
   "id": "3f1871d1-521d-4927-bcea-5ef1bad6fe77",
   "metadata": {},
   "outputs": [
    {
     "data": {
      "text/plain": [
       "<pyodbc.Connection at 0x253e84291d0>"
      ]
     },
     "execution_count": 9,
     "metadata": {},
     "output_type": "execute_result"
    }
   ],
   "source": [
    "cnxn_1"
   ]
  },
  {
   "cell_type": "code",
   "execution_count": 10,
   "id": "b619eac4-4237-4935-b161-abfe2144951d",
   "metadata": {},
   "outputs": [
    {
     "name": "stdout",
     "output_type": "stream",
     "text": [
      "Microsoft SQL Server 2019 (RTM-CU18) (KB5017593) - 15.0.4261.1 (X64) \n",
      "\tSep 12 2022 15:07:06 \n",
      "\tCopyright (C) 2019 Microsoft Corporation\n",
      "\tExpress Edition (64-bit) on Linux (Ubuntu 20.04.5 LTS) <X64>\n"
     ]
    }
   ],
   "source": [
    "#Sample select query\n",
    "cursor.execute(\"SELECT @@version;\") \n",
    "row = cursor.fetchone() \n",
    "while row: \n",
    "    print(row[0])\n",
    "    row = cursor.fetchone()"
   ]
  },
  {
   "cell_type": "code",
   "execution_count": 11,
   "id": "70e55374",
   "metadata": {},
   "outputs": [],
   "source": [
    "# Some other example server values are\n",
    "# server = 'localhost\\sqlexpress' # for a named instance\n",
    "# server = 'myserver,port' # to specify an alternate port\n",
    "#server = 'tcp:myserver.database.windows.net' \n",
    "#database = 'mydb' \n",
    "username = 'sa' \n",
    "password = 'Panama11' \n",
    "# ENCRYPT defaults to yes starting in ODBC Driver 18. It's good to always specify ENCRYPT=yes on the client side to avoid MITM attacks.\n",
    "cnxn = pyodbc.connect('DRIVER={ODBC Driver 18 for SQL Server};SERVER='+server+';PORT='+'1433'+';DATABASE='+database+';ENCRYPT=no;UID='+username+';PWD='+ password)\n",
    "#Hay que preguntar como se usa el parametro ENCRYPT\n",
    "cursor1 = cnxn.cursor()"
   ]
  },
  {
   "cell_type": "code",
   "execution_count": 12,
   "id": "22093bd3-fa0b-4d3e-9285-ada92cb7d017",
   "metadata": {},
   "outputs": [
    {
     "name": "stdout",
     "output_type": "stream",
     "text": [
      "Microsoft SQL Server 2019 (RTM-CU18) (KB5017593) - 15.0.4261.1 (X64) \n",
      "\tSep 12 2022 15:07:06 \n",
      "\tCopyright (C) 2019 Microsoft Corporation\n",
      "\tExpress Edition (64-bit) on Linux (Ubuntu 20.04.5 LTS) <X64>\n"
     ]
    }
   ],
   "source": [
    "#Sample select query\n",
    "cursor.execute(\"SELECT @@version;\") \n",
    "row = cursor.fetchone() \n",
    "while row: \n",
    "    print(row[0])\n",
    "    row = cursor.fetchone()"
   ]
  },
  {
   "cell_type": "code",
   "execution_count": 19,
   "id": "76843050-15a0-4939-a6aa-5fe77539a14f",
   "metadata": {},
   "outputs": [
    {
     "name": "stdout",
     "output_type": "stream",
     "text": [
      "(0, 'Jugo Pera', 'Pruebas')\n",
      "(1, 'Jugo Fresa', 'Frio')\n",
      "(2, 'Jugo Tomate', 'Pruebas')\n",
      "(3, 'Jugo Naranja', 'Frio')\n",
      "(2999, 'Jugo Naranja', 'Pruebas')\n"
     ]
    }
   ],
   "source": [
    "#Sample select query\n",
    "cursor.execute(\"SELECT ID, [Nombre Producto], Categoria, Valor FROM Data_hub.dbo.Sales_ramdon;\") \n",
    "row = cursor.fetchone() \n",
    "while row: \n",
    "    print(row[0:3])\n",
    "    row = cursor.fetchone()"
   ]
  },
  {
   "cell_type": "markdown",
   "id": "261963ed-f059-4842-954b-f65649b7bd47",
   "metadata": {},
   "source": [
    "<H2> Cerrar la connexion"
   ]
  },
  {
   "cell_type": "code",
   "execution_count": 14,
   "id": "fa3e819d-2fe4-4b67-a89a-ae9804535b74",
   "metadata": {},
   "outputs": [],
   "source": [
    "#cnxn_true.close()"
   ]
  }
 ],
 "metadata": {
  "kernelspec": {
   "display_name": "Python 3 (ipykernel)",
   "language": "python",
   "name": "python3"
  },
  "language_info": {
   "codemirror_mode": {
    "name": "ipython",
    "version": 3
   },
   "file_extension": ".py",
   "mimetype": "text/x-python",
   "name": "python",
   "nbconvert_exporter": "python",
   "pygments_lexer": "ipython3",
   "version": "3.9.12"
  }
 },
 "nbformat": 4,
 "nbformat_minor": 5
}
