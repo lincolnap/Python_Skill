{
 "cells": [
  {
   "cell_type": "markdown",
   "id": "c0f5f6ab",
   "metadata": {},
   "source": [
    "<h2> Import your libraries ODBC</h2>"
   ]
  },
  {
   "cell_type": "code",
   "execution_count": null,
   "id": "6a5c424f",
   "metadata": {},
   "outputs": [],
   "source": [
    "import pyodbc"
   ]
  },
  {
   "cell_type": "code",
   "execution_count": 2,
   "id": "d83f0a50",
   "metadata": {},
   "outputs": [],
   "source": [
    "#from login imimport connectiones as lg"
   ]
  },
  {
   "cell_type": "markdown",
   "id": "241fbf0b",
   "metadata": {},
   "source": [
    "## Show drivers in the system"
   ]
  },
  {
   "cell_type": "code",
   "execution_count": 3,
   "id": "d7adcd6b",
   "metadata": {},
   "outputs": [
    {
     "name": "stdout",
     "output_type": "stream",
     "text": [
      "SQL Server\n",
      "SQL Server Native Client 11.0\n",
      "ODBC Driver 17 for SQL Server\n",
      "ODBC Driver 18 for SQL Server\n",
      "Microsoft Access Driver (*.mdb, *.accdb)\n",
      "Microsoft Excel Driver (*.xls, *.xlsx, *.xlsm, *.xlsb)\n",
      "Microsoft Access Text Driver (*.txt, *.csv)\n"
     ]
    }
   ],
   "source": [
    "for driver in pyodbc.drivers(): \n",
    "    print(driver)"
   ]
  },
  {
   "cell_type": "markdown",
   "id": "95bc5935",
   "metadata": {},
   "source": [
    "## Engine odbc"
   ]
  },
  {
   "cell_type": "code",
   "execution_count": 4,
   "id": "7bd095a1",
   "metadata": {},
   "outputs": [],
   "source": [
    "# Define the variables connections string\n",
    "\n",
    "server = '192.168.3.24'\n",
    "database = 'master'\n",
    "uid = '<type username>'\n",
    "pwd = '<type password>'"
   ]
  },
  {
   "cell_type": "code",
   "execution_count": 5,
   "id": "f19af655",
   "metadata": {},
   "outputs": [],
   "source": [
    "cnxn_true = pyodbc.connect(driver='{SQL Server}', server='localhost', database='master', uid='sa', pwd='Panama11')"
   ]
  },
  {
   "cell_type": "code",
   "execution_count": 6,
   "id": "223d4ba5-ddfe-4a0d-8ffb-3226329bdb7e",
   "metadata": {},
   "outputs": [
    {
     "data": {
      "text/plain": [
       "<pyodbc.Connection at 0x253e60be1d0>"
      ]
     },
     "execution_count": 6,
     "metadata": {},
     "output_type": "execute_result"
    }
   ],
   "source": [
    "cnxn_true"
   ]
  },
  {
   "cell_type": "code",
   "execution_count": 7,
   "id": "e86d35a5-9406-4c1e-b9a9-54192b4b1778",
   "metadata": {},
   "outputs": [],
   "source": [
    "cursor = cnxn_true.cursor()"
   ]
  },
  {
   "cell_type": "code",
   "execution_count": 10,
   "id": "b619eac4-4237-4935-b161-abfe2144951d",
   "metadata": {},
   "outputs": [
    {
     "name": "stdout",
     "output_type": "stream",
     "text": [
      "Microsoft SQL Server 2019 (RTM-CU18) (KB5017593) - 15.0.4261.1 (X64) \n",
      "\tSep 12 2022 15:07:06 \n",
      "\tCopyright (C) 2019 Microsoft Corporation\n",
      "\tExpress Edition (64-bit) on Linux (Ubuntu 20.04.5 LTS) <X64>\n"
     ]
    }
   ],
   "source": [
    "#Sample select query\n",
    "cursor.execute(\"SELECT @@version;\") \n",
    "row = cursor.fetchone() \n",
    "while row: \n",
    "    print(row[0])\n",
    "    row = cursor.fetchone()"
   ]
  },
  {
   "cell_type": "code",
   "execution_count": 19,
   "id": "76843050-15a0-4939-a6aa-5fe77539a14f",
   "metadata": {},
   "outputs": [
    {
     "name": "stdout",
     "output_type": "stream",
     "text": [
      "(0, 'Jugo Pera', 'Pruebas')\n",
      "(1, 'Jugo Fresa', 'Frio')\n",
      "(2, 'Jugo Tomate', 'Pruebas')\n",
      "(3, 'Jugo Naranja', 'Frio')\n",
      "(2999, 'Jugo Naranja', 'Pruebas')\n"
     ]
    }
   ],
   "source": [
    "#Sample 2 select query ramdon values \n",
    "\n",
    "cursor.execute(\"SELECT ID, [Nombre Producto], Categoria, Valor FROM Data_hub.dbo.Sales_ramdon;\") \n",
    "row = cursor.fetchone() \n",
    "while row: \n",
    "    print(row[0:3])\n",
    "    row = cursor.fetchone()"
   ]
  },
  {
   "cell_type": "markdown",
   "id": "261963ed-f059-4842-954b-f65649b7bd47",
   "metadata": {},
   "source": [
    "<H2> Close connection from SQL server"
   ]
  },
  {
   "cell_type": "code",
   "execution_count": 14,
   "id": "fa3e819d-2fe4-4b67-a89a-ae9804535b74",
   "metadata": {},
   "outputs": [],
   "source": [
    "cnxn_true.close()"
   ]
  }
 ],
 "metadata": {
  "kernelspec": {
   "display_name": "Python 3.10.4 64-bit",
   "language": "python",
   "name": "python3"
  },
  "language_info": {
   "codemirror_mode": {
    "name": "ipython",
    "version": 3
   },
   "file_extension": ".py",
   "mimetype": "text/x-python",
   "name": "python",
   "nbconvert_exporter": "python",
   "pygments_lexer": "ipython3",
   "version": "3.10.4"
  },
  "vscode": {
   "interpreter": {
    "hash": "3ad933181bd8a04b432d3370b9dc3b0662ad032c4dfaa4e4f1596c548f763858"
   }
  }
 },
 "nbformat": 4,
 "nbformat_minor": 5
}
